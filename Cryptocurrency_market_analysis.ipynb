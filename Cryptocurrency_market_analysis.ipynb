{
  "nbformat": 4,
  "nbformat_minor": 0,
  "metadata": {
    "colab": {
      "name": "Cryptocurrency market analysis",
      "provenance": [],
      "collapsed_sections": [],
      "include_colab_link": true
    },
    "kernelspec": {
      "display_name": "Python 3",
      "name": "python3"
    }
  },
  "cells": [
    {
      "cell_type": "markdown",
      "metadata": {
        "id": "view-in-github",
        "colab_type": "text"
      },
      "source": [
        "<a href=\"https://colab.research.google.com/github/RamanEbrahimi/CryptocurrencyMarket-Data/blob/main/Cryptocurrency_market_analysis.ipynb\" target=\"_parent\"><img src=\"https://colab.research.google.com/assets/colab-badge.svg\" alt=\"Open In Colab\"/></a>"
      ]
    },
    {
      "cell_type": "code",
      "metadata": {
        "colab": {
          "base_uri": "https://localhost:8080/"
        },
        "id": "9DhJyvdFOPY5",
        "outputId": "32ed2c1b-688f-42f7-9685-ba6f410447f3"
      },
      "source": [
        "!pip install pycoingecko"
      ],
      "execution_count": 46,
      "outputs": [
        {
          "output_type": "stream",
          "text": [
            "Requirement already satisfied: pycoingecko in /usr/local/lib/python3.7/dist-packages (2.2.0)\n",
            "Requirement already satisfied: requests in /usr/local/lib/python3.7/dist-packages (from pycoingecko) (2.23.0)\n",
            "Requirement already satisfied: chardet<4,>=3.0.2 in /usr/local/lib/python3.7/dist-packages (from requests->pycoingecko) (3.0.4)\n",
            "Requirement already satisfied: urllib3!=1.25.0,!=1.25.1,<1.26,>=1.21.1 in /usr/local/lib/python3.7/dist-packages (from requests->pycoingecko) (1.24.3)\n",
            "Requirement already satisfied: idna<3,>=2.5 in /usr/local/lib/python3.7/dist-packages (from requests->pycoingecko) (2.10)\n",
            "Requirement already satisfied: certifi>=2017.4.17 in /usr/local/lib/python3.7/dist-packages (from requests->pycoingecko) (2021.5.30)\n"
          ],
          "name": "stdout"
        }
      ]
    },
    {
      "cell_type": "code",
      "metadata": {
        "id": "VjbAMeQ0Z2WZ"
      },
      "source": [
        "import pycoingecko\n",
        "import pandas as pd\n",
        "import numpy as np\n",
        "import matplotlib.pyplot as plt\n",
        "from matplotlib import pyplot\n",
        "import time\n",
        "import datetime"
      ],
      "execution_count": 87,
      "outputs": []
    },
    {
      "cell_type": "code",
      "metadata": {
        "id": "jq7h4gy5aAS3"
      },
      "source": [
        "def get_crypto_ids_from_CoinGecko():\n",
        "    \"\"\"\n",
        "    Returns list of CoinGecko listed coins\n",
        "    \"\"\"\n",
        "    ids = []\n",
        "    coin_gecko_list = pycoingecko.CoinGeckoAPI().get_coins_list()\n",
        "    for i in range(len(coin_gecko_list)):\n",
        "        ids.append(coin_gecko_list[i]['id'].upper())\n",
        "    return ids\n",
        "  \n",
        "\n",
        "def historical(coin, timefrom, timeto):\n",
        "    # TIME CONVERSION TO UNIX STAMP\n",
        "    UNIXtimefrom = time.mktime(datetime.datetime.strptime(timefrom, \"%Y-%m-%d\").timetuple())\n",
        "    UNIXtimeto = time.mktime(datetime.datetime.strptime(timeto, \"%Y-%m-%d\").timetuple())\n",
        "    \n",
        "    # DEFINE COINGECKO API (FREE)\n",
        "    cg = CoinGeckoAPI()\n",
        "    \n",
        "    # HISTORICAL DATA API\n",
        "    history = cg.get_coin_market_chart_range_by_id(id=coin,vs_currency='usd', from_timestamp= UNIXtimefrom, to_timestamp= UNIXtimeto)\n",
        "      \n",
        "    # FORMATTING DATAFRAME\n",
        "    dateList = []\n",
        "    priceList = []\n",
        "    for i in history['prices']:\n",
        "        dateList.append(i[0])\n",
        "        priceList.append(i[1])\n",
        "    \n",
        "    market_capList = []\n",
        "    for i in history['market_caps']:\n",
        "        market_capList.append(i[1])\n",
        "        \n",
        "    total_volumesList = []\n",
        "    for i in history['total_volumes']:\n",
        "        total_volumesList.append(i[1])\n",
        "    \n",
        "    df = pd.DataFrame(zip(dateList,priceList,market_capList,total_volumesList) ,columns=['date','usd','market_cap','volume'])\n",
        "    df['date'] = pd.to_datetime(df['date'],unit='ms')\n",
        "    df.index = df['date']\n",
        "    del df['date']\n",
        "\n",
        "    return df"
      ],
      "execution_count": 88,
      "outputs": []
    },
    {
      "cell_type": "code",
      "metadata": {
        "colab": {
          "base_uri": "https://localhost:8080/",
          "height": 265
        },
        "id": "Ts2mSbrEcUd1",
        "outputId": "99f1b531-db68-450a-f186-7d4ea314e601"
      },
      "source": [
        "time1 = '2013-01-01'\n",
        "time2 = '2021-08-20'\n",
        "ids = get_crypto_ids_from_CoinGecko()\n",
        "bitcoin = historical('bitcoin', time1, time2)\n",
        "plt.plot(bitcoin['market_cap'])\n",
        "plt.yscale('log')\n",
        "\n",
        "#  total_data = []\n",
        "#  td = pd.DataFrame(total_data)\n",
        "#  for coin in ids:\n",
        "#    if historical(coin, time1, time2):\n",
        "#      respond = historical(coin, time1, time2)\n",
        "#      td.append(respond, ignore_index = True)"
      ],
      "execution_count": 90,
      "outputs": [
        {
          "output_type": "display_data",
          "data": {
            "image/png": "[encoded data removed]",
            "text/plain": [
              "<Figure size 432x288 with 1 Axes>"
            ]
          },
          "metadata": {
            "tags": [],
            "needs_background": "light"
          }
        }
      ]
    },
    {
      "cell_type": "code",
      "metadata": {
        "id": "yeC6FeW2otMM"
      },
      "source": [
        ""
      ],
      "execution_count": null,
      "outputs": []
    }
  ]
}